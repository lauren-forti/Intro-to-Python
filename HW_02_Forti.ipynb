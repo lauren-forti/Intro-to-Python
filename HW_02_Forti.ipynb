{
 "cells": [
  {
   "cell_type": "markdown",
   "id": "d0bba249",
   "metadata": {},
   "source": [
    "# DSCI 303 - Homework 02\n",
    "### Lauren Forti"
   ]
  },
  {
   "cell_type": "markdown",
   "id": "e13fba6f",
   "metadata": {},
   "source": [
    "## Problem 1: Altering Lists"
   ]
  },
  {
   "cell_type": "code",
   "execution_count": 1,
   "id": "3e55fd72",
   "metadata": {},
   "outputs": [],
   "source": [
    "# create two lists\n",
    "employees = ['Alex', 'Beth', 'Chad', 'Drew', 'Emma', 'Fred']\n",
    "years = [5, 15, 2, 8, 4, 11]\n",
    "\n",
    "# sort by decreasing years\n",
    "# go through each element in list\n",
    "for i in range(len(years)):\n",
    "    # go through indices\n",
    "    for j in range(0, len(years) - 1):\n",
    "        # check if element is greater than next\n",
    "        if years[j] < years[j + 1]:\n",
    "            # if true, swap places\n",
    "            years[j], years[j + 1] = years[j + 1], years[j]\n",
    "            employees[j], employees[j + 1] = employees[j + 1], employees[j]"
   ]
  },
  {
   "cell_type": "code",
   "execution_count": 2,
   "id": "da87bcb3",
   "metadata": {},
   "outputs": [
    {
     "name": "stdout",
     "output_type": "stream",
     "text": [
      "['Beth', 'Gina', 'Fred', 'Drew', 'Alex', 'Emma', 'Herb', 'Chad', 'Iris']\n",
      "[15, 12, 11, 8, 5, 4, 3, 2, 0]\n"
     ]
    }
   ],
   "source": [
    "# add Gina\n",
    "employees.insert(1, 'Gina')\n",
    "years.insert(1, 12)\n",
    "\n",
    "# add Herb\n",
    "employees.insert(-1, 'Herb')\n",
    "years.insert(-1, 3)\n",
    "\n",
    "# add Iris\n",
    "employees.append('Iris')\n",
    "years.append(0)\n",
    "\n",
    "# output lists\n",
    "print(employees)\n",
    "print(years)"
   ]
  },
  {
   "cell_type": "code",
   "execution_count": 3,
   "id": "4f48ed7a",
   "metadata": {},
   "outputs": [
    {
     "name": "stdout",
     "output_type": "stream",
     "text": [
      "['Beth', 'Gina', 'Drew', 'Alex', 'Herb', 'Emma', 'Chad', 'Iris']\n",
      "[15, 12, 8, 5, 3, 6, 2, 0]\n"
     ]
    }
   ],
   "source": [
    "# remove Fred\n",
    "del employees[2]\n",
    "del years[2]\n",
    "\n",
    "# update Emma's years from 4 -> 6\n",
    "years[4] = 6\n",
    "years[4], years[5] = years[5], years[4]\n",
    "employees[4], employees[5] = employees[5], employees[4]\n",
    "\n",
    "# output lists\n",
    "print(employees)\n",
    "print(years)"
   ]
  },
  {
   "cell_type": "markdown",
   "id": "d6c18998",
   "metadata": {},
   "source": [
    "## Problem 2: Sorting and Slicing Lists"
   ]
  },
  {
   "cell_type": "code",
   "execution_count": 4,
   "id": "20ae3878",
   "metadata": {},
   "outputs": [],
   "source": [
    "import random\n",
    "random.seed(12)\n",
    "# create list with 99 randomly generated integers\n",
    "random_list = random.sample(range(500), 99)"
   ]
  },
  {
   "cell_type": "code",
   "execution_count": 5,
   "id": "283f923f",
   "metadata": {},
   "outputs": [
    {
     "name": "stdout",
     "output_type": "stream",
     "text": [
      "Length of random_list: 99\n",
      "First 10 Elements of random_list: [242, 137, 336, 270, 341, 179, 73, 195, 5, 191]\n"
     ]
    }
   ],
   "source": [
    "# get list length\n",
    "length = len(random_list)\n",
    "\n",
    "print('Length of random_list:', length)\n",
    "# output first 10 elements of list\n",
    "print('First 10 Elements of random_list:', random_list[:10])"
   ]
  },
  {
   "cell_type": "code",
   "execution_count": 6,
   "id": "4ca978ff",
   "metadata": {},
   "outputs": [
    {
     "name": "stdout",
     "output_type": "stream",
     "text": [
      "The sum of the elements in random list is 23739.\n"
     ]
    }
   ],
   "source": [
    "# get sum of list\n",
    "summation = sum(random_list)\n",
    "\n",
    "print(f'The sum of the elements in random list is {summation}.')"
   ]
  },
  {
   "cell_type": "code",
   "execution_count": 7,
   "id": "a7471411",
   "metadata": {},
   "outputs": [
    {
     "name": "stdout",
     "output_type": "stream",
     "text": [
      "First 10 Elements of sorted_list: [0, 5, 9, 15, 26, 30, 31, 38, 42, 44]\n",
      "First 10 Elements of random_list: [242, 137, 336, 270, 341, 179, 73, 195, 5, 191]\n"
     ]
    }
   ],
   "source": [
    "# sort list in increasing order\n",
    "sorted_list = sorted(random_list)\n",
    "\n",
    "# output first 10 elements of lists\n",
    "print('First 10 Elements of sorted_list:', sorted_list[:10])\n",
    "print('First 10 Elements of random_list:', random_list[:10])"
   ]
  },
  {
   "cell_type": "code",
   "execution_count": 8,
   "id": "3731cfe0",
   "metadata": {},
   "outputs": [
    {
     "name": "stdout",
     "output_type": "stream",
     "text": [
      "The smallest element of bot_slice is 0.\n",
      "The largest element of bot_slice is 173.\n",
      "\n",
      "The smallest element of bot_slice is 172.\n",
      "The largest element of bot_slice is 305.\n",
      "\n",
      "The smallest element of bot_slice is 318.\n",
      "The largest element of bot_slice is 484.\n"
     ]
    }
   ],
   "source": [
    "# output smallest 33 elements in list\n",
    "bot_slice = sorted_list[:33]\n",
    "\n",
    "# output middle 33 elements in list\n",
    "# calc upper and lower bounds\n",
    "middle = int(len(sorted_list)/2 - 1)\n",
    "l_bounds = middle - int(33/2) - 1\n",
    "u_bounds = middle + int(33/2)\n",
    "mid_slice = sorted_list[l_bounds:u_bounds]\n",
    "\n",
    "# output largest 33 elements in list\n",
    "top_slice = sorted_list[(len(sorted_list)-33):]\n",
    "\n",
    "# get min of bot_slice\n",
    "bot_min = min(bot_slice)\n",
    "# get max of bot_slice\n",
    "bot_max = max(bot_slice)\n",
    "# output results\n",
    "print(f'The smallest element of bot_slice is {bot_min}.')\n",
    "print(f'The largest element of bot_slice is {bot_max}.')\n",
    "\n",
    "# get min of mid_slice\n",
    "mid_min = min(mid_slice)\n",
    "# get max of mid_slice\n",
    "mid_max = max(mid_slice)\n",
    "# output results\n",
    "print(f'\\nThe smallest element of bot_slice is {mid_min}.')\n",
    "print(f'The largest element of bot_slice is {mid_max}.')\n",
    "\n",
    "# get min of top_slice\n",
    "top_min = min(top_slice)\n",
    "# get max of top_slice\n",
    "top_max = max(top_slice)\n",
    "# output results\n",
    "print(f'\\nThe smallest element of bot_slice is {top_min}.')\n",
    "print(f'The largest element of bot_slice is {top_max}.')"
   ]
  },
  {
   "cell_type": "markdown",
   "id": "287efe5b",
   "metadata": {},
   "source": [
    "## Problem 3: Magnitude of a Vector"
   ]
  },
  {
   "cell_type": "code",
   "execution_count": 9,
   "id": "f8d55057",
   "metadata": {},
   "outputs": [
    {
     "name": "stdout",
     "output_type": "stream",
     "text": [
      "The magnitude is 155.3995.\n"
     ]
    }
   ],
   "source": [
    "# create list\n",
    "vector = [11, 6, -8, 4, -13, 2]\n",
    "\n",
    "# calc magnitude\n",
    "# get sum\n",
    "for i in vector:\n",
    "    summation += i**2\n",
    "# take square root of sum\n",
    "mag_v = summation**.5\n",
    "\n",
    "# output results\n",
    "print(f'The magnitude is {mag_v:.4f}.')"
   ]
  },
  {
   "cell_type": "code",
   "execution_count": 10,
   "id": "a5ca7672",
   "metadata": {},
   "outputs": [
    {
     "name": "stdout",
     "output_type": "stream",
     "text": [
      "[0.0708, 0.0386, -0.0515, 0.0257, -0.0837, 0.0129]\n"
     ]
    }
   ],
   "source": [
    "# create empty list\n",
    "unit_vector = []\n",
    "rounded_unit_vector = []\n",
    "\n",
    "# divide each value in vector by magnitude\n",
    "for i in vector:\n",
    "    val = i/mag_v\n",
    "    val2 = round(val, 4)\n",
    "    # add new value to unit vector list\n",
    "    unit_vector.append(val)\n",
    "    rounded_unit_vector.append(val2)\n",
    "\n",
    "# output rounded unit vector list\n",
    "print(rounded_unit_vector)"
   ]
  },
  {
   "cell_type": "code",
   "execution_count": 11,
   "id": "c857204c",
   "metadata": {},
   "outputs": [
    {
     "name": "stdout",
     "output_type": "stream",
     "text": [
      "The magnitude is 155.3995.\n"
     ]
    }
   ],
   "source": [
    "# calc magnitude\n",
    "# get sum\n",
    "for i in unit_vector:\n",
    "    summation += i**2\n",
    "# take square root of sum\n",
    "mag_u = summation**.5\n",
    "\n",
    "# output results\n",
    "print(f'The magnitude is {mag_u:.4f}.')"
   ]
  },
  {
   "cell_type": "markdown",
   "id": "1d68e9eb",
   "metadata": {},
   "source": [
    "## Problem 4: Fibonacci Sequence"
   ]
  },
  {
   "cell_type": "code",
   "execution_count": 12,
   "id": "a76f6221",
   "metadata": {},
   "outputs": [
    {
     "name": "stdout",
     "output_type": "stream",
     "text": [
      "[0, 1, 1, 2, 3, 5, 8, 13, 21, 34, 55, 89, 144, 233, 377, 610, 987, 1597, 2584, 4181, 6765, 10946, 17711, 28657, 46368, 75025, 121393, 196418, 317811, 514229]\n"
     ]
    }
   ],
   "source": [
    "# start fibonacci list\n",
    "fib = [0, 1]\n",
    "\n",
    "# calc and add 28 more entries to list\n",
    "for i in range(1, 29):\n",
    "    val = fib[i] + fib[i-1]\n",
    "    fib.append(val)\n",
    "\n",
    "# output list\n",
    "print(fib)"
   ]
  },
  {
   "cell_type": "markdown",
   "id": "99e88332",
   "metadata": {},
   "source": [
    "## Problem 5: Printing a Table"
   ]
  },
  {
   "cell_type": "code",
   "execution_count": 13,
   "id": "5be95b3b",
   "metadata": {},
   "outputs": [
    {
     "name": "stdout",
     "output_type": "stream",
     "text": [
      "First       Last        Major           Credits      GPA\n",
      "--------------------------------------------------------\n",
      "Anna        Anderson    Mathematics         110     3.56\n",
      "Beatrice    Brown       Data Science         83     3.24\n",
      "Charles     Clark       Biology              64     3.87\n",
      "David       Daniels     Chemisty             35     2.83\n",
      "Emma        Edwards     Computer Science    104     3.61\n"
     ]
    }
   ],
   "source": [
    "labels = ['First', 'Last', 'Major', 'Credits', 'GPA']\n",
    "first = ['Anna', 'Beatrice', 'Charles', 'David', 'Emma']\n",
    "last = ['Anderson', 'Brown', 'Clark', 'Daniels', 'Edwards']\n",
    "major = ['Mathematics', 'Data Science', 'Biology', 'Chemisty', 'Computer Science']\n",
    "credits = [110, 83, 64, 35, 104]\n",
    "GPA = [3.56, 3.24, 3.87, 2.83, 3.61]\n",
    "\n",
    "z = 0\n",
    "# for each column\n",
    "for i in range(len(labels)):\n",
    "    # print header and dashes for first iteration\n",
    "    if z == 0:\n",
    "        print(f'{labels[i]:<12}{labels[i+1]:<12}{labels[i+2]:<16}{labels[i+3]:>7}{labels[i+4]:>9}')\n",
    "        print('-' * 56)\n",
    "        z += 1\n",
    "    # output each row\n",
    "    print(f'{first[i]:<12}{last[i]:<12}{major[i]:<16}{credits[i]:>7}{GPA[i]:>9}')"
   ]
  },
  {
   "cell_type": "markdown",
   "id": "5733ff11",
   "metadata": {},
   "source": [
    "## Problem 6: Calculating Sum of Squared Errors"
   ]
  },
  {
   "cell_type": "code",
   "execution_count": 14,
   "id": "a03e04cd",
   "metadata": {},
   "outputs": [],
   "source": [
    "length = [22.7, 22.4, 25.8, 21.3, 20.1, 22.1, 21.1, 25.3, 26.9, 26.9, 23.0, 23.8, 26.2, 20.4, 23.0, 21.9, 23.5, 27.8, 25.3, 25.9]\n",
    "weight = [9.2, 8.8, 10.7, 8.3, 6.2, 8.6, 7.2, 11.2, 10.5, 11.3, 9.6, 9.9, 10.9, 5.9, 9.5, 9.1, 9.7, 11.6, 10.2, 10.5]"
   ]
  },
  {
   "cell_type": "code",
   "execution_count": 15,
   "id": "e548ecca",
   "metadata": {},
   "outputs": [
    {
     "name": "stdout",
     "output_type": "stream",
     "text": [
      "[8.42, 8.24, 10.28, 7.58, 6.86, 8.06, 7.46, 9.98, 10.94, 10.94, 8.6, 9.08, 10.52, 7.04, 8.6, 7.94, 8.9, 11.48, 9.98, 10.34]\n"
     ]
    }
   ],
   "source": [
    "pred_weight = []\n",
    "\n",
    "# get predicted weights\n",
    "for i in length:\n",
    "    # calc predicted weight\n",
    "    pred =  0.6 * i - 5.2\n",
    "    # round prediction to 2 decimal places\n",
    "    pred = round(pred, 2)\n",
    "    \n",
    "    # add predicted weight to list\n",
    "    pred_weight.append(pred)\n",
    "\n",
    "# output list\n",
    "print(pred_weight)"
   ]
  },
  {
   "cell_type": "code",
   "execution_count": 16,
   "id": "b295d566",
   "metadata": {},
   "outputs": [
    {
     "name": "stdout",
     "output_type": "stream",
     "text": [
      "The SSE is 10.2236.\n"
     ]
    }
   ],
   "source": [
    "summation = 0\n",
    "# calc sum of squared errors\n",
    "for i in range(len(pred_weight)):\n",
    "    summation += (weight[i] - pred_weight[i])**2\n",
    "\n",
    "# output result\n",
    "print(f'The SSE is {summation:.4f}.')"
   ]
  },
  {
   "cell_type": "markdown",
   "id": "be96a871",
   "metadata": {},
   "source": [
    "## Problem 7: Determining Monthly Payments"
   ]
  },
  {
   "cell_type": "code",
   "execution_count": 17,
   "id": "2289a6b5",
   "metadata": {},
   "outputs": [
    {
     "name": "stdout",
     "output_type": "stream",
     "text": [
      "A loan of $100000 would require monthly payments of $524.67.\n",
      "A loan of $110000 would require monthly payments of $577.13.\n",
      "A loan of $120000 would require monthly payments of $629.60.\n",
      "A loan of $130000 would require monthly payments of $682.06.\n",
      "A loan of $140000 would require monthly payments of $734.53.\n",
      "A loan of $150000 would require monthly payments of $787.00.\n",
      "A loan of $160000 would require monthly payments of $839.46.\n",
      "A loan of $170000 would require monthly payments of $891.93.\n",
      "A loan of $180000 would require monthly payments of $944.40.\n",
      "A loan of $190000 would require monthly payments of $996.86.\n",
      "A loan of $200000 would require monthly payments of $1049.33.\n"
     ]
    }
   ],
   "source": [
    "i = 0.004\n",
    "n = 30*12\n",
    "\n",
    "# calc monthly payment for different $ amounts\n",
    "for L in range(100000, 200001, 10000):\n",
    "    PMT = L*(i/(1 - (1 + i)**(-n)))\n",
    "    print(f'A loan of ${L} would require monthly payments of ${PMT:.2f}.')"
   ]
  },
  {
   "cell_type": "markdown",
   "id": "340c0d5f",
   "metadata": {},
   "source": [
    "## Problem 8: Adding Matrices"
   ]
  },
  {
   "cell_type": "code",
   "execution_count": 18,
   "id": "9b7eef72",
   "metadata": {},
   "outputs": [
    {
     "name": "stdout",
     "output_type": "stream",
     "text": [
      "[48, 72, 71, 43, 72]\n",
      "[65, 65, 65, 33, 44]\n",
      "[73, 68, 55, 41, 51]\n"
     ]
    }
   ],
   "source": [
    "A = [[13, 43, 28, 22, 41],\n",
    "     [17, 39, 46, 16, 21],\n",
    "     [41, 34, 31, 25, 14]]\n",
    "\n",
    "B = [[35, 29, 43, 21, 31],\n",
    "    [48, 26, 19, 17, 23],\n",
    "    [32, 34, 24, 16, 37]]\n",
    "\n",
    "AplusB = []\n",
    "\n",
    "# for each matrix row\n",
    "for i in range(len(A)):\n",
    "    num_list = []\n",
    "    # for each item in each row\n",
    "    for j in range(0,len(A[i])):\n",
    "        # add numbers\n",
    "        num = A[i][j] + B[i][j]\n",
    "        # add to row\n",
    "        num_list.append(num)\n",
    "    # add row to matrix\n",
    "    AplusB.append(num_list)\n",
    "\n",
    "# output final matrix\n",
    "for i in AplusB:\n",
    "    print(i)"
   ]
  }
 ],
 "metadata": {
  "kernelspec": {
   "display_name": "Python 3 (ipykernel)",
   "language": "python",
   "name": "python3"
  },
  "language_info": {
   "codemirror_mode": {
    "name": "ipython",
    "version": 3
   },
   "file_extension": ".py",
   "mimetype": "text/x-python",
   "name": "python",
   "nbconvert_exporter": "python",
   "pygments_lexer": "ipython3",
   "version": "3.9.7"
  }
 },
 "nbformat": 4,
 "nbformat_minor": 5
}
