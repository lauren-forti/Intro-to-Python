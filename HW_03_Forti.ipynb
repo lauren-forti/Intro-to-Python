{
 "cells": [
  {
   "cell_type": "markdown",
   "id": "bf35359f",
   "metadata": {},
   "source": [
    "# DSCI 303 - Homework 03\n",
    "**Lauren Forti**"
   ]
  },
  {
   "cell_type": "markdown",
   "id": "dae39f6c",
   "metadata": {},
   "source": [
    "## Problem 1: Calculating Exam Scores"
   ]
  },
  {
   "cell_type": "code",
   "execution_count": 1,
   "id": "5248d0d7",
   "metadata": {},
   "outputs": [
    {
     "name": "stdout",
     "output_type": "stream",
     "text": [
      "Student 1 Grade: 64%\n",
      "Student 2 Grade: 84%\n"
     ]
    }
   ],
   "source": [
    "# create strings of grades\n",
    "correct = 'D, B, C, A, C, D, A, C, C, B, D, A, B, D, C, D, C, D, C, A, B, D, C, B, A'\n",
    "answers1 = 'A, B, C, A, B, D, A, A, C, B, D, A, D, C, C, B, C, D, B, A, D, D, C, C, A'\n",
    "answers2 = 'D, A, C, A, B, D, A, C, C, B, D, A, B, D, A, D, C, D, C, A, B, C, C, B, A'\n",
    "\n",
    "# convert string to list of grades\n",
    "correct = correct.split(', ')\n",
    "answers1 = answers1.split(', ')\n",
    "answers2 = answers2.split(', ')\n",
    "\n",
    "# count for Student 1\n",
    "count1 = 0\n",
    "# count for Student 2\n",
    "count2 = 0\n",
    "\n",
    "# count # of correct answers for Student 1 and Student 2\n",
    "for i in range(len(correct)):\n",
    "    # if the correct answer matches Student 1's answer, add to count\n",
    "    if correct[i] == answers1[i]:\n",
    "        count1 += 1\n",
    "    # if the correct answer matches Student 2's answer, add to count\n",
    "    if correct[i] == answers2[i]:\n",
    "        count2 += 1\n",
    "\n",
    "# calc grades for both students\n",
    "grade1 = count1/len(correct)*100\n",
    "grade2 = count2/len(correct)*100\n",
    "# convert to integers\n",
    "grade1 = int(grade1)\n",
    "grade2 = int(grade2)\n",
    "\n",
    "# output grades\n",
    "print(f'Student 1 Grade: {grade1}%')\n",
    "print(f'Student 2 Grade: {grade2}%')"
   ]
  },
  {
   "cell_type": "markdown",
   "id": "8efb6af2",
   "metadata": {},
   "source": [
    "## Problem 2: Calculating Price of a Bulk Order"
   ]
  },
  {
   "cell_type": "code",
   "execution_count": 2,
   "id": "bb1b7e0e",
   "metadata": {
    "scrolled": true
   },
   "outputs": [
    {
     "name": "stdout",
     "output_type": "stream",
     "text": [
      "The cost for an order of 84 widgets is $29400.\n",
      "The cost for an order of 100 widgets is $35000.\n",
      "The cost for an order of 126 widgets is $42800.\n",
      "The cost for an order of 150 widgets is $50000.\n",
      "The cost for an order of 186 widgets is $60800.\n",
      "The cost for an order of 200 widgets is $65000.\n",
      "The cost for an order of 216 widgets is $69000.\n",
      "The cost for an order of 248 widgets is $77000.\n"
     ]
    }
   ],
   "source": [
    "# number of widgets in different orders\n",
    "quantities = '84, 100, 126, 150, 186, 200, 216, 248'\n",
    "quantities = quantities.split(', ')\n",
    "\n",
    "price = 0\n",
    "# determine the price for orders\n",
    "for i in quantities:\n",
    "    # convert i to int\n",
    "    i = int(i)\n",
    "    # intialize price for each order\n",
    "    price = 0\n",
    "    \n",
    "    # if 100 or fewer widgets are ordered -> each widget costs $350\n",
    "    if i <= 100:\n",
    "        price = 350*i\n",
    "    # if 200 or fewer widgets are ordered -> first 100 widgets each cost $350\n",
    "    #                                        each additional widget costs $300\n",
    "    elif i <= 200:\n",
    "        price = 100*350 + ((i - 100)* 300)\n",
    "    # If more than 200 widgets are ordered -> first 100 each cost $350\n",
    "    #                                         next 100 each cost $300\n",
    "    #                                         each widget beyond the first 200 cost $250\n",
    "    else:\n",
    "        price = 100*350 + 100* 300 + ((i - 200)*250)\n",
    "    \n",
    "    # output order price\n",
    "    print(f'The cost for an order of {i} widgets is ${price}.')"
   ]
  },
  {
   "cell_type": "markdown",
   "id": "5238b10e",
   "metadata": {},
   "source": [
    "## Problem 3: Creating an Amortization Schedule"
   ]
  },
  {
   "cell_type": "code",
   "execution_count": 3,
   "id": "e24bb3ef",
   "metadata": {},
   "outputs": [
    {
     "name": "stdout",
     "output_type": "stream",
     "text": [
      "The balance at the end of year 1 is $900.00.\n",
      "The balance at the end of year 2 is $795.00.\n",
      "The balance at the end of year 3 is $684.75.\n",
      "The balance at the end of year 4 is $568.99.\n",
      "The balance at the end of year 5 is $447.44.\n",
      "The balance at the end of year 6 is $319.81.\n",
      "The balance at the end of year 7 is $185.80.\n",
      "The balance at the end of year 8 is $45.09.\n",
      "The balance at the end of year 9 is $0.00.\n"
     ]
    }
   ],
   "source": [
    "# initial loan amount\n",
    "balance = 1000\n",
    "# annual interest rate\n",
    "i = .05\n",
    "# annual payment\n",
    "pmt = 150\n",
    "\n",
    "# number of payments\n",
    "n = 0\n",
    "\n",
    "while balance > 0:\n",
    "    # increase # of payments\n",
    "    n += 1\n",
    "    \n",
    "    # calc new balance\n",
    "    balance = round((balance*(1+i)-pmt), 2)\n",
    "    \n",
    "    # calc final payment amount\n",
    "    if balance < 0:\n",
    "        final_pmt = balance + pmt\n",
    "        balance = 0\n",
    "    \n",
    "    print(f'The balance at the end of year {n} is ${balance:.2f}.')"
   ]
  },
  {
   "cell_type": "code",
   "execution_count": 4,
   "id": "1ed516bd",
   "metadata": {
    "scrolled": true
   },
   "outputs": [
    {
     "name": "stdout",
     "output_type": "stream",
     "text": [
      "The amount of the final payment will be $47.34.\n"
     ]
    }
   ],
   "source": [
    "print(f'The amount of the final payment will be ${final_pmt:.2f}.')"
   ]
  },
  {
   "cell_type": "markdown",
   "id": "514a643c",
   "metadata": {},
   "source": [
    "## Problem 4: Hailstone Sequences"
   ]
  },
  {
   "cell_type": "code",
   "execution_count": 5,
   "id": "8fd683af",
   "metadata": {},
   "outputs": [
    {
     "name": "stdout",
     "output_type": "stream",
     "text": [
      "[15, 46, 23, 70, 35, 106, 53, 160, 80, 40, 20, 10, 5, 16, 8, 4, 2, 1]\n",
      "[17, 52, 26, 13, 40, 20, 10, 5, 16, 8, 4, 2, 1]\n",
      "[22, 11, 34, 17, 52, 26, 13, 40, 20, 10, 5, 16, 8, 4, 2, 1]\n"
     ]
    }
   ],
   "source": [
    "hs15 = []\n",
    "hs17 = []\n",
    "hs22 = []\n",
    "\n",
    "n = 15\n",
    "while n >= 1:\n",
    "    # add n to sequence\n",
    "    hs15.append(int(n))\n",
    "    \n",
    "    # end loop if n is 1\n",
    "    if n == 1:\n",
    "        break\n",
    "    # divide by 2 if n is even\n",
    "    elif n%2 == 0:\n",
    "        n = n/2\n",
    "    # multiply by 3 and add 1 if n is odd\n",
    "    else:\n",
    "        n = 3*n + 1\n",
    "\n",
    "n = 17\n",
    "while n >= 1:\n",
    "    # add n to sequence\n",
    "    hs17.append(int(n))\n",
    "    \n",
    "    # end loop if n is 1\n",
    "    if n == 1:\n",
    "        break\n",
    "    # divide by 2 if n is even\n",
    "    elif n%2 == 0:\n",
    "        n = n/2\n",
    "    # multiply by 3 and add 1 if n is odd\n",
    "    else:\n",
    "        n = 3*n + 1\n",
    "\n",
    "n = 22\n",
    "while n >= 1:\n",
    "    # add n to sequence\n",
    "    hs22.append(int(n))\n",
    "    \n",
    "    # end loop if n is 1\n",
    "    if n == 1:\n",
    "        break\n",
    "    # divide by 2 if n is even\n",
    "    elif n%2 == 0:\n",
    "        n = n/2\n",
    "    # multiply by 3 and add 1 if n is odd\n",
    "    else:\n",
    "        n = 3*n + 1\n",
    "\n",
    "print(hs15)\n",
    "print(hs17)\n",
    "print(hs22)"
   ]
  },
  {
   "cell_type": "markdown",
   "id": "0549f1c6",
   "metadata": {},
   "source": [
    "## Problem 5: Predator/Prey Model"
   ]
  },
  {
   "cell_type": "code",
   "execution_count": 6,
   "id": "a54c8278",
   "metadata": {},
   "outputs": [
    {
     "name": "stdout",
     "output_type": "stream",
     "text": [
      "Year     r_pop    w_pop\n",
      "-----------------------\n",
      "0        1000     200\n",
      "1        1100     220\n",
      "2        1166     249\n",
      "3        1100     220\n",
      "4        1166     248\n",
      "5        1170     285\n",
      "6        1088     328\n",
      "7        918      369\n",
      "8        699      396\n",
      "9        494      399\n",
      "10       346      378\n",
      "11       257      341\n",
      "12       210      299\n",
      "13       189      258\n",
      "14       185      221\n",
      "15       195      189\n",
      "16       218      162\n",
      "17       256      140\n",
      "18       312      122\n",
      "19       391      109\n",
      "20       501      99\n",
      "21       652      94\n",
      "22       855      93\n",
      "23       1123     98\n",
      "24       1464     111\n",
      "25       1870     137\n",
      "26       2292     186\n",
      "27       2585     276\n",
      "28       2450     434\n",
      "29       1548     666\n",
      "30       260      842\n",
      "31       0        739\n"
     ]
    }
   ],
   "source": [
    "# rabbit population\n",
    "r_pop = 1000\n",
    "# wolf population\n",
    "w_pop = 200\n",
    "\n",
    "# print header, dashes, and first three lines\n",
    "print(f'{\"Year\":<9}{\"r_pop\":<9}{\"w_pop\"}')\n",
    "print('-'*23)\n",
    "print(f'{0:<9}{r_pop:<9}{w_pop}')\n",
    "print(f'{1:<9}{1100:<9}{220}')\n",
    "print(f'{2:<9}{1166:<9}{249}')\n",
    "\n",
    "i = 2\n",
    "# run while both populations are greater than 0\n",
    "while r_pop > 0 and w_pop > 0:\n",
    "    i += 1\n",
    "    \n",
    "    # store current population values in temporary variables\n",
    "    r_pop_prev = r_pop\n",
    "    w_pop_prev = w_pop\n",
    "    \n",
    "    # calc new rabbit population\n",
    "    r_pop = int(1.5*r_pop_prev-0.002*r_pop_prev*w_pop_prev)\n",
    "    # calc new wolf population\n",
    "    w_pop = int(0.8*w_pop_prev+0.0003*r_pop_prev*w_pop_prev)\n",
    "    \n",
    "    # make negative populations equal to 0\n",
    "    if r_pop < 0 and w_pop >0:\n",
    "        r_pop = 0\n",
    "    if w_pop < 0 and r_pop >0:\n",
    "        w_pop = 0\n",
    "        \n",
    "    # output results to table\n",
    "    print(f'{i:<9}{r_pop:<9}{w_pop}')\n"
   ]
  },
  {
   "cell_type": "markdown",
   "id": "ae86e711",
   "metadata": {},
   "source": [
    "## Problem 6: Finding a Root of a Polynomial Function"
   ]
  },
  {
   "cell_type": "code",
   "execution_count": 7,
   "id": "a1bc7ed0",
   "metadata": {},
   "outputs": [
    {
     "name": "stdout",
     "output_type": "stream",
     "text": [
      "The approximate solution is x = 3.4675044.\n",
      "The algorithm took 22 iterations to converge.\n"
     ]
    }
   ],
   "source": [
    "x1 = 0\n",
    "x2 = 5\n",
    "\n",
    "# value from plugging x1 into f(x)\n",
    "val1 = x1**3-4*x1**2+3*x1-4\n",
    "# value from plugging x2 into f(x)\n",
    "val2 = x2**3-4*x2**2+3*x2-4\n",
    "\n",
    "# count iterations to converge\n",
    "n = 0\n",
    "\n",
    "while abs(val1) > 0.000001 and abs(val2) > 0.000001:\n",
    "    # increae iteration count\n",
    "    n += 1\n",
    "    \n",
    "    # get new x and function output\n",
    "    new_x = (x1+x2)/2\n",
    "    new_val = new_x**3-4*new_x**2+3*new_x-4\n",
    "\n",
    "    # if new_val is negative -> set x1 to new_x and val1 to new_val\n",
    "    if new_val < 0:\n",
    "        x1 = new_x\n",
    "        val1 = new_val\n",
    "    # otherwise set x2 to new_x and val2 to new_val\n",
    "    else:\n",
    "        x2 = new_x\n",
    "        val2 = new_val\n",
    "\n",
    "# get approx solution\n",
    "avg = (x1+x2)/2\n",
    "\n",
    "# output results\n",
    "print(f'The approximate solution is x = {avg:.7f}.')\n",
    "print(f'The algorithm took {n} iterations to converge.')"
   ]
  },
  {
   "cell_type": "markdown",
   "id": "97f2ac5a",
   "metadata": {},
   "source": [
    "## Problem 7: Grade Database"
   ]
  },
  {
   "cell_type": "code",
   "execution_count": 8,
   "id": "dda5d855",
   "metadata": {},
   "outputs": [],
   "source": [
    "# lookup table with student ID#s\n",
    "students = {\n",
    "146832:{'first':'Brendan', 'last':'Small'},\n",
    "147354:{'first':'Melissa', 'last':'Robbins'},\n",
    "149126:{'first':'Jason', 'last':'Penopolis'},\n",
    "149735:{'first':'Fenton', 'last':'Mulley'}\n",
    "}\n",
    "\n",
    "# lookup table with course ID#s\n",
    "courses = {\n",
    "'ENGL 101':'Composition I',\n",
    "'ENGL 104':'Composition II',\n",
    "'MATH 117':'College Algebra',\n",
    "'MATH 151':'Calculus I',\n",
    "'CHEM 103':'General Chemistry I',\n",
    "'ECON 201':'Macroeconomics'\n",
    "}\n",
    "\n",
    "# grades\n",
    "sid = [149126, 146832, 147354, 149735, 149126, 146832, 146832, 149735, 149126, 147354, 147354, 149735]\n",
    "cid = ['ENGL 101', 'MATH 117', 'ENGL 104', 'CHEM 103', 'MATH 117', 'ECON 201', 'ENGL 101', 'ENGL 101', 'CHEM 103', 'ENGL 104', 'MATH 151', 'MATH 117']\n",
    "grade = ['D', 'C', 'B', 'A', 'B', 'C', 'A', 'F', 'B', 'A', 'A', 'C']"
   ]
  },
  {
   "cell_type": "code",
   "execution_count": 9,
   "id": "1b8526ca",
   "metadata": {},
   "outputs": [
    {
     "name": "stdout",
     "output_type": "stream",
     "text": [
      "SID      First     Last        CID        Course Name           Grade\n",
      "---------------------------------------------------------------------\n",
      "149126   Jason     Penopolis   ENGL 101   Composition I             D\n",
      "146832   Brendan   Small       MATH 117   College Algebra           C\n",
      "147354   Melissa   Robbins     ENGL 104   Composition II            B\n",
      "149735   Fenton    Mulley      CHEM 103   General Chemistry I       A\n",
      "149126   Jason     Penopolis   MATH 117   College Algebra           B\n",
      "146832   Brendan   Small       ECON 201   Macroeconomics            C\n",
      "146832   Brendan   Small       ENGL 101   Composition I             A\n",
      "149735   Fenton    Mulley      ENGL 101   Composition I             F\n",
      "149126   Jason     Penopolis   CHEM 103   General Chemistry I       B\n",
      "147354   Melissa   Robbins     ENGL 104   Composition II            A\n",
      "147354   Melissa   Robbins     MATH 151   Calculus I                A\n",
      "149735   Fenton    Mulley      MATH 117   College Algebra           C\n"
     ]
    }
   ],
   "source": [
    "labels = ['SID', 'First', 'Last', 'CID', 'Course Name', 'Grade']\n",
    "\n",
    "z = 0\n",
    "# for each column\n",
    "for i in range(len(grade)):\n",
    "    # print header and dashes for first iteration\n",
    "    if z == 0:\n",
    "        print(f'{labels[i]:<9}{labels[i+1]:<10}{labels[i+2]:<12}{labels[i+3]:<11}{labels[i+4]:<22}{labels[i+5]:>5}')\n",
    "        print('-' * 69)\n",
    "        z += 1\n",
    "    \n",
    "    # output each row\n",
    "    print(f'{sid[i]:<9}{students[sid[i]][\"first\"]:<10}{students[sid[i]][\"last\"]:<12}{cid[i]:<11}{courses[cid[i]]:<22}{grade[i]:>5}')"
   ]
  },
  {
   "cell_type": "markdown",
   "id": "e657931b",
   "metadata": {},
   "source": [
    "## Problem 8: Warehouse Inventory"
   ]
  },
  {
   "cell_type": "code",
   "execution_count": 10,
   "id": "634498bc",
   "metadata": {},
   "outputs": [],
   "source": [
    "prices = {'p101':37.52, 'p117':56.98, 'p122':43.72, 'p125':48.33, 'p126':52.45}\n",
    "\n",
    "inventory = {\n",
    "'STL':{'p101':520, 'p117':315, 'p122':117, 'p125':258, 'p126':345},\n",
    "'CHI':{'p101':125, 'p117':864, 'p122':231, 'p125':612, 'p126':164},\n",
    "'KC' :{'p101':264, 'p117':285, 'p122':772, 'p125':467, 'p126':106}\n",
    "}"
   ]
  },
  {
   "cell_type": "code",
   "execution_count": 11,
   "id": "95b3a17b",
   "metadata": {},
   "outputs": [
    {
     "name": "stdout",
     "output_type": "stream",
     "text": [
      "p101: 909\n",
      "p117: 1464\n",
      "p122: 1120\n",
      "p125: 1337\n",
      "p126: 615\n"
     ]
    }
   ],
   "source": [
    "total_inventory = {}\n",
    "\n",
    "# loop over each product\n",
    "for prod_id in prices:\n",
    "    quantity = 0\n",
    "\n",
    "    # loop over values of the elements stored in inventory\n",
    "    for site in inventory:\n",
    "        # use product id to extract the quantity of that product at the current site and add to total quantity\n",
    "        quantity += inventory[site][prod_id]\n",
    "\n",
    "    # add prod_id:quantity to total_inventory\n",
    "    total_inventory[prod_id] = quantity\n",
    "\n",
    "    # output key and value for item\n",
    "    print(f'{prod_id}: {quantity}')"
   ]
  }
 ],
 "metadata": {
  "kernelspec": {
   "display_name": "Python 3 (ipykernel)",
   "language": "python",
   "name": "python3"
  },
  "language_info": {
   "codemirror_mode": {
    "name": "ipython",
    "version": 3
   },
   "file_extension": ".py",
   "mimetype": "text/x-python",
   "name": "python",
   "nbconvert_exporter": "python",
   "pygments_lexer": "ipython3",
   "version": "3.9.7"
  }
 },
 "nbformat": 4,
 "nbformat_minor": 5
}
