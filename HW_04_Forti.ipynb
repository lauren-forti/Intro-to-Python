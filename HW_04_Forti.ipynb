{
 "cells": [
  {
   "cell_type": "markdown",
   "id": "dd4360b1",
   "metadata": {},
   "source": [
    "# DSCI 303 - Homework 04\n",
    "**Lauren Forti**"
   ]
  },
  {
   "cell_type": "markdown",
   "id": "4afc8d37",
   "metadata": {},
   "source": [
    "## Problem 1: Dot Product"
   ]
  },
  {
   "cell_type": "code",
   "execution_count": 1,
   "id": "69110809",
   "metadata": {},
   "outputs": [],
   "source": [
    "# calc and return the dot product of two vectors\n",
    "def dot_product(x,y):\n",
    "    # reset product\n",
    "    product = 0\n",
    "    \n",
    "    # calc dot product\n",
    "    for i in range(len(x)):\n",
    "        product += x[i]*y[i]\n",
    "    \n",
    "    return product"
   ]
  },
  {
   "cell_type": "code",
   "execution_count": 2,
   "id": "a22eab82",
   "metadata": {},
   "outputs": [
    {
     "name": "stdout",
     "output_type": "stream",
     "text": [
      "The dot product of v1 and v2 is 16220.\n"
     ]
    }
   ],
   "source": [
    "v1 = [38, 9, 40, 34, 20, 16, 42, 36, 12, 1, 23, 46, 31, 19, 30, 33, 16, 43, 24, 41]\n",
    "v2 = [43, 13, 35, 14, 26, 3, 36, 15, 42, 44, 45, 20, 17, 6, 47, 40, 38, 41, 31, 24]\n",
    "\n",
    "# get dot product of v1 and v2\n",
    "prod = dot_product(v1, v2)\n",
    "\n",
    "# output results\n",
    "print(f'The dot product of v1 and v2 is {prod}.')"
   ]
  },
  {
   "cell_type": "markdown",
   "id": "16170b33",
   "metadata": {},
   "source": [
    "## Problem 2: Amortization "
   ]
  },
  {
   "cell_type": "code",
   "execution_count": 3,
   "id": "74f9ebcb",
   "metadata": {},
   "outputs": [],
   "source": [
    "# calc and return the number of monthly payments to repay the loan\n",
    "def count_payments(balance, i, pmt):\n",
    "    # number of payments\n",
    "    n = 0\n",
    "\n",
    "    while balance > 0:\n",
    "        # increase # of payments\n",
    "        n += 1\n",
    "\n",
    "        # calc new balance\n",
    "        balance = round((balance*(1+i)-pmt), 2)\n",
    "\n",
    "        # set negative balance to 0 and break loop\n",
    "        if balance < 0:\n",
    "            balance = 0\n",
    "    return n"
   ]
  },
  {
   "cell_type": "code",
   "execution_count": 4,
   "id": "7f7b478f",
   "metadata": {
    "scrolled": true
   },
   "outputs": [
    {
     "name": "stdout",
     "output_type": "stream",
     "text": [
      "36 monthly payments of $850 would be required.\n",
      "32 monthly payments of $900 would be required.\n",
      "29 monthly payments of $950 would be required.\n",
      "27 monthly payments of $1000 would be required.\n",
      "24 monthly payments of $1050 would be required.\n"
     ]
    }
   ],
   "source": [
    "# size of payments\n",
    "payments = [850, 900, 950, 1000, 1050]\n",
    "\n",
    "# calc of monthly payments to repay loan of $160,000 and .4% interest\n",
    "for i in payments:\n",
    "    result = count_payments(16000, 0.04, i)\n",
    "    print(f'{result} monthly payments of ${i} would be required.')"
   ]
  },
  {
   "cell_type": "code",
   "execution_count": 5,
   "id": "5a0b5281",
   "metadata": {
    "scrolled": true
   },
   "outputs": [
    {
     "name": "stdout",
     "output_type": "stream",
     "text": [
      "32 monthly payments of $850 would be required.\n",
      "29 monthly payments of $900 would be required.\n",
      "26 monthly payments of $950 would be required.\n",
      "24 monthly payments of $1000 would be required.\n",
      "23 monthly payments of $1050 would be required.\n"
     ]
    }
   ],
   "source": [
    "# calc of monthly payments to repay loan of $160,000 and .35% interest\n",
    "for i in payments:\n",
    "    result = count_payments(16000, 0.035, i)\n",
    "    print(f'{result} monthly payments of ${i} would be required.')"
   ]
  },
  {
   "cell_type": "markdown",
   "id": "a341c269",
   "metadata": {},
   "source": [
    " ## Problem 3: Minimum"
   ]
  },
  {
   "cell_type": "code",
   "execution_count": 6,
   "id": "b44e7480",
   "metadata": {},
   "outputs": [],
   "source": [
    "# find smallest element of list x\n",
    "def minimum(x):\n",
    "    # set lowest to first element\n",
    "    lowest = x[0]\n",
    "    \n",
    "    for i in range(len(x)):\n",
    "        # if current element < lowest, replace lowest\n",
    "        if x[i] < lowest:\n",
    "            lowest = x[i]\n",
    "    \n",
    "    return lowest"
   ]
  },
  {
   "cell_type": "code",
   "execution_count": 7,
   "id": "dfc17f83",
   "metadata": {
    "scrolled": false
   },
   "outputs": [
    {
     "name": "stdout",
     "output_type": "stream",
     "text": [
      "The minimum of list1 = 4.1\n",
      "The minimum of list2 = 3.4\n",
      "The minimum of list3 = Chicago\n"
     ]
    }
   ],
   "source": [
    "list1 = [9.8, 7.4, 5.6, 4.8, 4.8, 5.3, 4.1, 9.6, 5.4]\n",
    "list2 = [3.4, 7.6, 8.7, 7.5, 9.8, 7.5, 6.7, 8.7, 8.4]\n",
    "list3 = ['St. Louis', 'Kansas City', 'Chicago', 'Little Rock', 'Omaha']\n",
    "\n",
    "# call function\n",
    "result1 = minimum(list1)\n",
    "result2 = minimum(list2)\n",
    "result3 = minimum(list3)\n",
    "\n",
    "# output results\n",
    "print(f'The minimum of list1 = {result1}')\n",
    "print(f'The minimum of list2 = {result2}')\n",
    "print(f'The minimum of list3 = {result3}')"
   ]
  },
  {
   "cell_type": "markdown",
   "id": "87331d8d",
   "metadata": {},
   "source": [
    "## Problem 4: Argmin"
   ]
  },
  {
   "cell_type": "code",
   "execution_count": 8,
   "id": "c0d5145f",
   "metadata": {},
   "outputs": [],
   "source": [
    "#  find the index of the smallest element of a list\n",
    "def argmin(x):\n",
    "    # set lowest to first element\n",
    "    lowest = x[0]\n",
    "    index = 0\n",
    "    \n",
    "    for i in range(len(x)):\n",
    "        # if current element < lowest, replace lowest\n",
    "        if x[i] < lowest:\n",
    "            lowest = x[i]\n",
    "            index = i\n",
    "        elif i > 1 and x[i] == lowest:\n",
    "            index = i - 1\n",
    "\n",
    "    return index"
   ]
  },
  {
   "cell_type": "code",
   "execution_count": 9,
   "id": "0fc65332",
   "metadata": {
    "scrolled": true
   },
   "outputs": [
    {
     "name": "stdout",
     "output_type": "stream",
     "text": [
      "The minimum of list1 = 6\n",
      "The minimum of list2 = 0\n",
      "The minimum of list3 = 2\n"
     ]
    }
   ],
   "source": [
    "# call function\n",
    "result1 = argmin(list1)\n",
    "result2 = argmin(list2)\n",
    "result3 = argmin(list3)\n",
    "\n",
    "# output results\n",
    "print(f'The minimum of list1 = {result1}')\n",
    "print(f'The minimum of list2 = {result2}')\n",
    "print(f'The minimum of list3 = {result3}')"
   ]
  },
  {
   "cell_type": "markdown",
   "id": "8e84cfd6",
   "metadata": {},
   "source": [
    "## Problem 5: Find Smallest Elements"
   ]
  },
  {
   "cell_type": "code",
   "execution_count": 10,
   "id": "d814a084",
   "metadata": {},
   "outputs": [],
   "source": [
    "# find the smallest element(s) of a list\n",
    "def find_smallest(x, n = None):\n",
    "    # sort list smallest -> largest\n",
    "    new_x = sorted(x)\n",
    "    \n",
    "    # if n is None -> return the smallest element of x\n",
    "    if n == None:\n",
    "        return new_x[0]\n",
    "    \n",
    "    # if n is positive int -> return a list w/ the smallest n elements of list\n",
    "    elif isinstance(i, int) == True and n > 0:\n",
    "        if n >= len(x):\n",
    "            return x\n",
    "        else:\n",
    "            return new_x[:n]"
   ]
  },
  {
   "cell_type": "code",
   "execution_count": 11,
   "id": "e035fec5",
   "metadata": {},
   "outputs": [
    {
     "name": "stdout",
     "output_type": "stream",
     "text": [
      "17\n",
      "[17]\n",
      "[17, 28]\n",
      "[17, 28, 28, 39, 53]\n",
      "[39, 74, 28, 64, 17, 28, 54, 53]\n"
     ]
    }
   ],
   "source": [
    "my_list = [39, 74, 28, 64, 17, 28, 54, 53]\n",
    "\n",
    "result = find_smallest(my_list, 2)\n",
    "\n",
    "print(find_smallest(my_list))\n",
    "print(find_smallest(my_list, 1))\n",
    "print(find_smallest(my_list, 2))\n",
    "print(find_smallest(my_list, 5))\n",
    "print(find_smallest(my_list, 12))"
   ]
  },
  {
   "cell_type": "markdown",
   "id": "60520e12",
   "metadata": {},
   "source": [
    "## Problem 6: Find Unique Elements"
   ]
  },
  {
   "cell_type": "code",
   "execution_count": 12,
   "id": "a1d261e0",
   "metadata": {},
   "outputs": [],
   "source": [
    "# identify unique elements in a list\n",
    "def unique(x):\n",
    "    # empty list to hold first instance\n",
    "    new_x = []\n",
    "    \n",
    "    for i in x:\n",
    "        # if element of x is not in new_x, add it to new_x\n",
    "        if i not in new_x:\n",
    "            new_x.append(i)\n",
    "    \n",
    "    # sort list ascending\n",
    "    new_x.sort()\n",
    "    \n",
    "    return new_x"
   ]
  },
  {
   "cell_type": "code",
   "execution_count": 13,
   "id": "c6b603ea",
   "metadata": {
    "scrolled": true
   },
   "outputs": [
    {
     "name": "stdout",
     "output_type": "stream",
     "text": [
      "[12, 14, 16, 19, 23]\n",
      "['bat', 'cat', 'dog', 'frog']\n"
     ]
    }
   ],
   "source": [
    "int_list = [23, 16, 23, 12, 14, 23, 12, 19, 19]\n",
    "str_list = ['cat', 'dog', 'dog', 'cat', 'bat', 'frog', 'dog', 'frog']\n",
    "\n",
    "print(unique(int_list))\n",
    "print(unique(str_list))"
   ]
  },
  {
   "cell_type": "markdown",
   "id": "076d0c04",
   "metadata": {},
   "source": [
    "## Problem 7: Frequency Distribution"
   ]
  },
  {
   "cell_type": "code",
   "execution_count": 14,
   "id": "c9c275a5",
   "metadata": {},
   "outputs": [],
   "source": [
    "# creates frequency distribution of the elements in a list\n",
    "def freq_dist(x):\n",
    "    \n",
    "    # get unique values of x\n",
    "    values = unique(x)\n",
    "    \n",
    "    # count # of times an element of values appears in x\n",
    "    counts = []\n",
    "    \n",
    "    for i in values:\n",
    "        n = 0\n",
    "        for z in grades:\n",
    "        # count # of matches\n",
    "            if i == z:\n",
    "                n += 1\n",
    "        # count to list\n",
    "        counts.append(n)\n",
    "\n",
    "    return values, counts"
   ]
  },
  {
   "cell_type": "code",
   "execution_count": 15,
   "id": "47fb2192",
   "metadata": {},
   "outputs": [
    {
     "name": "stdout",
     "output_type": "stream",
     "text": [
      "Unique Values: ['A', 'B', 'C', 'D', 'F']\n",
      "Frequencies:   [6, 8, 5, 5, 3]\n"
     ]
    }
   ],
   "source": [
    "grades = ['A', 'D', 'A', 'C', 'B', 'F', 'A', 'D', 'C', 'B', 'F', 'A', 'C', 'B', 'A', 'B', 'B', 'C', 'B', 'F', 'D', 'D', 'A', 'C', 'B', 'B', 'D']\n",
    "\n",
    "freq_dist_grades = str(freq_dist(grades)[0])\n",
    "freq_dist_counts = str(freq_dist(grades)[1])\n",
    "\n",
    "print(f'{\"Unique Values: \":<15}{freq_dist_grades}')\n",
    "print(f'{\"Frequencies: \":<15}{freq_dist_counts}')"
   ]
  },
  {
   "cell_type": "markdown",
   "id": "5dc55963",
   "metadata": {},
   "source": [
    "## Problem 8: Weighted Means"
   ]
  },
  {
   "cell_type": "code",
   "execution_count": 16,
   "id": "7d5693ec",
   "metadata": {},
   "outputs": [],
   "source": [
    "# calculate either standard means or weighted means\n",
    "def mean(x,w = None):\n",
    "    # get standard avg if no weights provided\n",
    "    if w == None:\n",
    "        avg = sum(x)/(len(x))\n",
    "        return avg\n",
    "    \n",
    "    # otherwise get weighted avg\n",
    "    else:\n",
    "        denominator = sum(w)\n",
    "        numerator = 0\n",
    "        \n",
    "        for i in range(len(x)):\n",
    "            piece = x[i]*w[i]\n",
    "            numerator += piece\n",
    "            \n",
    "        # calc avg\n",
    "        avg = numerator/denominator\n",
    "        return avg"
   ]
  },
  {
   "cell_type": "code",
   "execution_count": 17,
   "id": "c79f9473",
   "metadata": {},
   "outputs": [
    {
     "name": "stdout",
     "output_type": "stream",
     "text": [
      "Standard Mean: 4.9\n",
      "Weighted Mean: 4.15\n"
     ]
    }
   ],
   "source": [
    "values = [4, 7, 3, 5, 2, 6, 8, 2, 4, 8]\n",
    "weights = [2, 1, 3, 1, 2, 3, 1, 4, 2, 1]\n",
    "\n",
    "std = mean(values)\n",
    "wtd = mean(values, weights)\n",
    "\n",
    "print(f'Standard Mean: {std}')\n",
    "print(f'Weighted Mean: {wtd}')"
   ]
  }
 ],
 "metadata": {
  "kernelspec": {
   "display_name": "Python 3 (ipykernel)",
   "language": "python",
   "name": "python3"
  },
  "language_info": {
   "codemirror_mode": {
    "name": "ipython",
    "version": 3
   },
   "file_extension": ".py",
   "mimetype": "text/x-python",
   "name": "python",
   "nbconvert_exporter": "python",
   "pygments_lexer": "ipython3",
   "version": "3.9.7"
  }
 },
 "nbformat": 4,
 "nbformat_minor": 5
}
