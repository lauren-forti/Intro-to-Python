{
 "cells": [
  {
   "cell_type": "markdown",
   "id": "8d7e7da1",
   "metadata": {},
   "source": [
    "# DSCI 303 - Homework 01\n",
    "**Lauren Forti**"
   ]
  },
  {
   "cell_type": "markdown",
   "id": "912a5e0b",
   "metadata": {},
   "source": [
    "### Problem 1: Arithmetic and Geometric Means"
   ]
  },
  {
   "cell_type": "code",
   "execution_count": 1,
   "id": "07d2642f",
   "metadata": {},
   "outputs": [
    {
     "name": "stdout",
     "output_type": "stream",
     "text": [
      "Sum:\t\t 59\n",
      "Product:\t 42636\n",
      "Arithmetic Mean: 14.75\n",
      "Geometric Mean:\t 14.37\n"
     ]
    }
   ],
   "source": [
    "# variables\n",
    "x0 = 11\n",
    "x1 = 12\n",
    "x2 = 17\n",
    "x3 = 19\n",
    "\n",
    "# get sum\n",
    "total = x0 + x1 + x2 + x3\n",
    "# find product\n",
    "product = x0 * x1 * x2 * x3\n",
    "\n",
    "# calc arithmetic mean\n",
    "arith_mean = total/4\n",
    "# calc geometric mean\n",
    "geom_mean = product**(1/4)\n",
    "\n",
    "# output\n",
    "print('Sum:\\t\\t', total)\n",
    "print('Product:\\t', product)\n",
    "print('Arithmetic Mean:', round(arith_mean, 2))\n",
    "print('Geometric Mean:\\t', round(geom_mean, 2))"
   ]
  },
  {
   "cell_type": "markdown",
   "id": "7e6d53d1",
   "metadata": {},
   "source": [
    "### Problem 2: Calculating Bill"
   ]
  },
  {
   "cell_type": "code",
   "execution_count": 2,
   "id": "075ab1d6",
   "metadata": {},
   "outputs": [
    {
     "name": "stdout",
     "output_type": "stream",
     "text": [
      "2 Side Salads:  $ 7.90\n",
      "2 Hamburgers:   $17.90\n",
      "2 Diet Sodas:   $ 5.00\n",
      "----------------------\n",
      "Subtotal        $30.80\n",
      "Tax (4.75%):    $ 1.46\n",
      "Tip (15%):      $ 4.62\n",
      "----------------------\n",
      "Total Charge:   $36.88\n"
     ]
    }
   ],
   "source": [
    "# get prices\n",
    "ss_cost = 2 * 3.95\n",
    "hb_cost = 2 * 8.95\n",
    "ds_cost = 2 * 2.50\n",
    "\n",
    "# get subtotal\n",
    "subtotal = sum([ss_cost, hb_cost, ds_cost])\n",
    "# calc sales tax\n",
    "tax = round((0.0475 * subtotal), 2)\n",
    "# calc tip\n",
    "tip = round((0.15 * subtotal), 2)\n",
    "\n",
    "# calc total charge\n",
    "total_charge = sum([subtotal, tax, tip])\n",
    "\n",
    "# f string variables\n",
    "ss = '2 Side Salads:'\n",
    "hb = '2 Hamburgers:'\n",
    "ds = '2 Diet Sodas:'\n",
    "sub = 'Subtotal'\n",
    "tx = 'Tax (4.75%):'\n",
    "tp = 'Tip (15%):'\n",
    "total = 'Total Charge:'\n",
    "dollar = '$'\n",
    "\n",
    "# print descriptive text\n",
    "print(f'{ss:<16}{dollar:>1}{ss_cost:>5.2f}')\n",
    "print(f'{hb:<16}{dollar:>1}{hb_cost:>5.2f}')\n",
    "print(f'{ds:<16}{dollar:>1}{ds_cost:>5.2f}')\n",
    "print('-'*22)\n",
    "print(f'{sub:<16}{dollar:>1}{subtotal:>5.2f}')\n",
    "print(f'{tx:<16}{dollar:>1}{tax:>5.2f}')\n",
    "print(f'{tp:<16}{dollar:>1}{tip:>5.2f}')\n",
    "print('-'*22)\n",
    "print(f'{total:<16}{dollar:>1}{total_charge:>5.2f}')"
   ]
  },
  {
   "cell_type": "markdown",
   "id": "023e67c6",
   "metadata": {},
   "source": [
    "### Problem 3: Volume of a Sphere"
   ]
  },
  {
   "cell_type": "code",
   "execution_count": 3,
   "id": "8025c8f8",
   "metadata": {},
   "outputs": [
    {
     "name": "stdout",
     "output_type": "stream",
     "text": [
      "The volume of a sphere with radius 4.600 is equal to 407.720\n",
      "The volume of a sphere with radius 7.200 is equal to 1563.456\n",
      "The volume of a sphere with radius 9.700 is equal to 3822.992\n"
     ]
    }
   ],
   "source": [
    "pi = 3.14159\n",
    "\n",
    "# radii\n",
    "r1 = 4.6\n",
    "r2 = 7.2\n",
    "r3 = 9.7\n",
    "\n",
    "# calc volume\n",
    "v1 = 4/3 * pi * r1**3\n",
    "v2 = 4/3 * pi * r2**3\n",
    "v3 = 4/3 * pi * r3**3\n",
    "\n",
    "# print results\n",
    "print(f'The volume of a sphere with radius {r1:.3f} is equal to {v1:.3f}')\n",
    "print(f'The volume of a sphere with radius {r2:.3f} is equal to {v2:.3f}')\n",
    "print(f'The volume of a sphere with radius {r3:.3f} is equal to {v3:.3f}')"
   ]
  },
  {
   "cell_type": "markdown",
   "id": "e4780f35",
   "metadata": {},
   "source": [
    "### Problem 4: Simple Interest"
   ]
  },
  {
   "cell_type": "code",
   "execution_count": 4,
   "id": "b75620c0",
   "metadata": {},
   "outputs": [
    {
     "name": "stdout",
     "output_type": "stream",
     "text": [
      "Amount repaid: $225.75\n"
     ]
    }
   ],
   "source": [
    "# variables\n",
    "P = 210\n",
    "i = 0.09\n",
    "t = 10/12\n",
    "\n",
    "# calc simple interest\n",
    "A = P * (1 + i*t)\n",
    "A = round(A, 2)\n",
    "\n",
    "# print results\n",
    "print('Amount repaid: $' + str(A))"
   ]
  },
  {
   "cell_type": "markdown",
   "id": "7f8fe35a",
   "metadata": {},
   "source": [
    "### Problem 5: Compound Interest"
   ]
  },
  {
   "cell_type": "code",
   "execution_count": 5,
   "id": "5e319e31",
   "metadata": {},
   "outputs": [
    {
     "name": "stdout",
     "output_type": "stream",
     "text": [
      "Amount repaid: $463.05\n"
     ]
    }
   ],
   "source": [
    "# variables\n",
    "P = 400\n",
    "i = 0.05\n",
    "t = 3\n",
    "\n",
    "# calc compound interest\n",
    "A = P * (1 + i)**t\n",
    "A = round(A, 2)\n",
    "\n",
    "# print results\n",
    "print('Amount repaid: $' + str(A))"
   ]
  },
  {
   "cell_type": "markdown",
   "id": "83c782ab",
   "metadata": {},
   "source": [
    "### Problem 6: Annuity"
   ]
  },
  {
   "cell_type": "code",
   "execution_count": 6,
   "id": "8783869b",
   "metadata": {},
   "outputs": [
    {
     "name": "stdout",
     "output_type": "stream",
     "text": [
      "Balance after 18 years: $51290.83\n"
     ]
    }
   ],
   "source": [
    "# variables\n",
    "PMT = 2000\n",
    "i = 0.04\n",
    "n = 18\n",
    "\n",
    "# calc repaymount amount\n",
    "A = PMT*((((1 + i)**n)-1)/i)\n",
    "A = round(A, 2)\n",
    "\n",
    "# print results\n",
    "print('Balance after 18 years: $' + str(A))"
   ]
  },
  {
   "cell_type": "markdown",
   "id": "f45a6c0b",
   "metadata": {},
   "source": [
    "### Problem 7: Probability"
   ]
  },
  {
   "cell_type": "code",
   "execution_count": 7,
   "id": "3ef15c29",
   "metadata": {
    "scrolled": true
   },
   "outputs": [
    {
     "name": "stdout",
     "output_type": "stream",
     "text": [
      "Probability that both people are late:        0.18\n",
      "Probability that at least one person is late: 0.72\n"
     ]
    }
   ],
   "source": [
    "# variables\n",
    "prob_A = 0.6\n",
    "prob_B = 0.3\n",
    "\n",
    "# probability both people are late\n",
    "prob_A_and_B = prob_A * prob_B\n",
    "# probability at least one person is late\n",
    "prob_A_or_B = prob_A + prob_B - prob_A_and_B\n",
    "\n",
    "# f string variables\n",
    "both = 'Probability that both people are late:'\n",
    "one = 'Probability that at least one person is late:'\n",
    "\n",
    "# print results\n",
    "print(f'{both:<45}{prob_A_and_B:>5}')\n",
    "print(f'{one:<45}{prob_A_or_B:>5}')"
   ]
  },
  {
   "cell_type": "markdown",
   "id": "86878df1",
   "metadata": {},
   "source": [
    "### Problem 8: Constructing an Output Message"
   ]
  },
  {
   "cell_type": "code",
   "execution_count": 8,
   "id": "74942272",
   "metadata": {},
   "outputs": [
    {
     "name": "stdout",
     "output_type": "stream",
     "text": [
      "First Name: Lauren\n",
      "Last Name:  Forti\n",
      "Student ID: 1032584\n"
     ]
    }
   ],
   "source": [
    "first = 'Lauren'\n",
    "last = 'Forti'\n",
    "sid = 1032584\n",
    "\n",
    "print('First Name: '+ first + '\\nLast Name:  ' + last + '\\nStudent ID:', str(sid))"
   ]
  }
 ],
 "metadata": {
  "kernelspec": {
   "display_name": "Python 3 (ipykernel)",
   "language": "python",
   "name": "python3"
  },
  "language_info": {
   "codemirror_mode": {
    "name": "ipython",
    "version": 3
   },
   "file_extension": ".py",
   "mimetype": "text/x-python",
   "name": "python",
   "nbconvert_exporter": "python",
   "pygments_lexer": "ipython3",
   "version": "3.9.7"
  }
 },
 "nbformat": 4,
 "nbformat_minor": 5
}
