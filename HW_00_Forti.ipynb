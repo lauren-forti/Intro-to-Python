{
 "cells": [
  {
   "cell_type": "markdown",
   "id": "ac2c75a6",
   "metadata": {},
   "source": [
    "## DSCI 303 – Homework 00\n",
    "\n",
    "**Lauren Forti**\n",
    "\n",
    "Due Wednesday, 5/9"
   ]
  },
  {
   "cell_type": "markdown",
   "id": "16b17e54",
   "metadata": {},
   "source": [
    "### Part 1: Arithemetic Operations\n",
    "\n",
    "In this section of the assignment, we will demonstrate the following concepts:\n",
    "* Addition\n",
    "* Subtraction\n",
    "* Multiplication\n",
    "* Division\n",
    "* Exponentiation"
   ]
  },
  {
   "cell_type": "code",
   "execution_count": 1,
   "id": "4aefea2e",
   "metadata": {},
   "outputs": [
    {
     "name": "stdout",
     "output_type": "stream",
     "text": [
      "9\n"
     ]
    }
   ],
   "source": [
    "print(7 + 2)"
   ]
  },
  {
   "cell_type": "code",
   "execution_count": 2,
   "id": "867946ef",
   "metadata": {},
   "outputs": [
    {
     "name": "stdout",
     "output_type": "stream",
     "text": [
      "5\n"
     ]
    }
   ],
   "source": [
    "print(7 - 2)"
   ]
  },
  {
   "cell_type": "code",
   "execution_count": 3,
   "id": "cae29c94",
   "metadata": {},
   "outputs": [
    {
     "name": "stdout",
     "output_type": "stream",
     "text": [
      "14\n"
     ]
    }
   ],
   "source": [
    "print(7 * 2)"
   ]
  },
  {
   "cell_type": "code",
   "execution_count": 4,
   "id": "440eee7b",
   "metadata": {},
   "outputs": [
    {
     "name": "stdout",
     "output_type": "stream",
     "text": [
      "3.5\n"
     ]
    }
   ],
   "source": [
    "print(7 / 2)"
   ]
  },
  {
   "cell_type": "code",
   "execution_count": 5,
   "id": "d912e891",
   "metadata": {},
   "outputs": [
    {
     "name": "stdout",
     "output_type": "stream",
     "text": [
      "49\n"
     ]
    }
   ],
   "source": [
    "print(7 ** 2)"
   ]
  },
  {
   "cell_type": "markdown",
   "id": "281df11f",
   "metadata": {},
   "source": [
    "### Part 2: Variables\n",
    "\n",
    "In this section of the assignment, we will demonstrate the following concepts:\n",
    "\n",
    "* Creating variables\n",
    "* Printing the value of variables\n",
    "* Operations with variables\n",
    "* Nonlinear execution in notebooks"
   ]
  },
  {
   "cell_type": "code",
   "execution_count": 6,
   "id": "1a1357fb",
   "metadata": {},
   "outputs": [],
   "source": [
    "x = 91"
   ]
  },
  {
   "cell_type": "code",
   "execution_count": 7,
   "id": "7bf1f174",
   "metadata": {},
   "outputs": [],
   "source": [
    "x = 42"
   ]
  },
  {
   "cell_type": "code",
   "execution_count": 8,
   "id": "e07a090d",
   "metadata": {},
   "outputs": [
    {
     "name": "stdout",
     "output_type": "stream",
     "text": [
      "42\n"
     ]
    }
   ],
   "source": [
    "print(x)"
   ]
  },
  {
   "cell_type": "code",
   "execution_count": 9,
   "id": "2a9d9621",
   "metadata": {},
   "outputs": [],
   "source": [
    "y = 7"
   ]
  },
  {
   "cell_type": "code",
   "execution_count": 10,
   "id": "fb401de4",
   "metadata": {},
   "outputs": [
    {
     "name": "stdout",
     "output_type": "stream",
     "text": [
      "7\n"
     ]
    }
   ],
   "source": [
    "print(y)"
   ]
  },
  {
   "cell_type": "code",
   "execution_count": 11,
   "id": "e67e399e",
   "metadata": {},
   "outputs": [
    {
     "name": "stdout",
     "output_type": "stream",
     "text": [
      "6.0\n"
     ]
    }
   ],
   "source": [
    "print(x / y)"
   ]
  },
  {
   "cell_type": "markdown",
   "id": "c2cf63a2",
   "metadata": {},
   "source": [
    "### Part 3: Comments\n",
    "\n",
    "In this section of the assignment, we will demonstrate the following concepts:\n",
    "* Writing comments\n",
    "* Using comments to document code\n",
    "* Using comments to disable lines of code"
   ]
  },
  {
   "cell_type": "code",
   "execution_count": 12,
   "id": "fead24b7",
   "metadata": {},
   "outputs": [
    {
     "name": "stdout",
     "output_type": "stream",
     "text": [
      "7\n"
     ]
    }
   ],
   "source": [
    "# This is a comment\n",
    "print(2 + 5)"
   ]
  },
  {
   "cell_type": "code",
   "execution_count": 13,
   "id": "f019f55b",
   "metadata": {},
   "outputs": [
    {
     "name": "stdout",
     "output_type": "stream",
     "text": [
      "2937.54\n"
     ]
    }
   ],
   "source": [
    "# In this cell, we will calculate sales revenue.\n",
    "sales = 173                  # Monthly widget sales\n",
    "price = 16.98                # Price per widget\n",
    "revenue = sales * price      # Monthly revenue\n",
    "print(revenue)"
   ]
  },
  {
   "cell_type": "code",
   "execution_count": 14,
   "id": "70f4e9ed",
   "metadata": {},
   "outputs": [
    {
     "name": "stdout",
     "output_type": "stream",
     "text": [
      "2.0\n",
      "3.0\n"
     ]
    }
   ],
   "source": [
    "print(12 / 6)\n",
    "# print(12 / 0)\n",
    "print(12 / 4)"
   ]
  },
  {
   "cell_type": "markdown",
   "id": "89b6333f",
   "metadata": {},
   "source": [
    "### Part 4: Strings\n",
    "\n",
    "In this section of the assignment, we will demonstrate the following concepts:\n",
    "* Creating strings\n",
    "* Storing strings in variables\n",
    "* Printing multiple items"
   ]
  },
  {
   "cell_type": "code",
   "execution_count": 15,
   "id": "6df26c64",
   "metadata": {},
   "outputs": [
    {
     "name": "stdout",
     "output_type": "stream",
     "text": [
      "Hello, world!\n"
     ]
    }
   ],
   "source": [
    "print('Hello, world!')"
   ]
  },
  {
   "cell_type": "code",
   "execution_count": 16,
   "id": "1855c639",
   "metadata": {},
   "outputs": [
    {
     "name": "stdout",
     "output_type": "stream",
     "text": [
      "Lauren Forti\n"
     ]
    }
   ],
   "source": [
    "name = 'Lauren Forti'\n",
    "print(name)"
   ]
  },
  {
   "cell_type": "code",
   "execution_count": 17,
   "id": "9a4a1ab2",
   "metadata": {},
   "outputs": [
    {
     "name": "stdout",
     "output_type": "stream",
     "text": [
      "Hello, my name is Lauren Forti .\n"
     ]
    }
   ],
   "source": [
    "print('Hello, my name is', name, '.')"
   ]
  },
  {
   "cell_type": "code",
   "execution_count": 18,
   "id": "5102eada",
   "metadata": {},
   "outputs": [
    {
     "name": "stdout",
     "output_type": "stream",
     "text": [
      "Hello, my name is Lauren Forti.\n"
     ]
    }
   ],
   "source": [
    "print('Hello, my name is ', name, '.', sep = '')"
   ]
  }
 ],
 "metadata": {
  "kernelspec": {
   "display_name": "Python 3 (ipykernel)",
   "language": "python",
   "name": "python3"
  },
  "language_info": {
   "codemirror_mode": {
    "name": "ipython",
    "version": 3
   },
   "file_extension": ".py",
   "mimetype": "text/x-python",
   "name": "python",
   "nbconvert_exporter": "python",
   "pygments_lexer": "ipython3",
   "version": "3.9.7"
  }
 },
 "nbformat": 4,
 "nbformat_minor": 5
}
