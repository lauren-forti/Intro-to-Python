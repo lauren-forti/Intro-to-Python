{
 "cells": [
  {
   "cell_type": "markdown",
   "id": "ffc078f6",
   "metadata": {},
   "source": [
    "# DSCI 303 - Homework 06\n",
    "### Lauren Forti"
   ]
  },
  {
   "cell_type": "code",
   "execution_count": 1,
   "id": "a918a85e",
   "metadata": {},
   "outputs": [],
   "source": [
    "import numpy as np\n",
    "import pandas as pd\n",
    "import matplotlib.pyplot as plt"
   ]
  },
  {
   "cell_type": "markdown",
   "id": "59ce0441",
   "metadata": {},
   "source": [
    "## Part 1: Working with 2D Arrays"
   ]
  },
  {
   "cell_type": "code",
   "execution_count": 2,
   "id": "741e6aba",
   "metadata": {
    "scrolled": true
   },
   "outputs": [
    {
     "name": "stdout",
     "output_type": "stream",
     "text": [
      "[[4.17 7.2  0.   3.02 1.47 0.92 1.86 3.46]\n",
      " [3.97 5.39 4.19 6.85 2.04 8.78 0.27 6.7 ]\n",
      " [4.17 5.59 1.4  1.98 8.01 9.68 3.13 6.92]\n",
      " [8.76 8.95 0.85 0.39 1.7  8.78 0.98 4.21]\n",
      " [9.58 5.33 6.92 3.16 6.87 8.35 0.18 7.5 ]]\n"
     ]
    }
   ],
   "source": [
    "# set a seed of 1\n",
    "np.random.seed(1)\n",
    "\n",
    "# create 5x8 array of elements sampled uniformly on [0,10]\n",
    "Z = np.random.uniform(low=0, high=10, size=(5,8))\n",
    "# round elements to two decimal places\n",
    "Z = np.round(Z, 2)\n",
    "print(Z)"
   ]
  },
  {
   "cell_type": "code",
   "execution_count": 3,
   "id": "0e2d2c67",
   "metadata": {
    "scrolled": true
   },
   "outputs": [
    {
     "name": "stdout",
     "output_type": "stream",
     "text": [
      "Row 3:    [8.76 8.95 0.85 0.39 1.7  8.78 0.98 4.21]\n",
      "Column 6: [1.86 0.27 3.13 0.98 0.18]\n"
     ]
    }
   ],
   "source": [
    "# print 3rd row\n",
    "print(f'Row 3:    {Z[3,:]}')\n",
    "# print 6th col\n",
    "print(f'Column 6: {Z[:,6]}')"
   ]
  },
  {
   "cell_type": "code",
   "execution_count": 4,
   "id": "b33f7aa6",
   "metadata": {
    "scrolled": false
   },
   "outputs": [
    {
     "name": "stdout",
     "output_type": "stream",
     "text": [
      "Row Sums:    [22.1  38.19 40.88 34.62 47.89]\n",
      "Column Sums: [30.65 32.46 13.36 15.4  20.09 36.51  6.42 28.79]\n",
      "Array Sums:  183.68\n"
     ]
    }
   ],
   "source": [
    "# sum of rows\n",
    "rows = np.sum(Z, axis=1)\n",
    "# sum of cols\n",
    "cols = np.sum(Z, axis=0)\n",
    "# total array sum\n",
    "total = np.sum(Z)\n",
    "\n",
    "# output results\n",
    "print(f'Row Sums:    {rows}')\n",
    "print(f'Column Sums: {cols}')\n",
    "print(f'Array Sums:  {total}')"
   ]
  },
  {
   "cell_type": "markdown",
   "id": "1dcbba39",
   "metadata": {},
   "source": [
    "## Part 2: Reshaping and Stacking Arrays"
   ]
  },
  {
   "cell_type": "code",
   "execution_count": 5,
   "id": "42b5b975",
   "metadata": {},
   "outputs": [
    {
     "name": "stdout",
     "output_type": "stream",
     "text": [
      "(1000, 4)\n"
     ]
    }
   ],
   "source": [
    "# set a seed of 167\n",
    "np.random.seed(167)\n",
    "\n",
    "# make 1D arrays with 1000 elements drawn from normal dist\n",
    "x1 = np.random.normal(loc = 50, scale=10, size=1000)\n",
    "x2 = np.random.normal(loc=20, scale=5, size=1000)\n",
    "x3 = np.random.normal(loc=100, scale=30, size=1000)\n",
    "x4 = np.random.normal(loc=10, scale=2, size=1000)\n",
    "\n",
    "# reshape 1D arrays into col arrays\n",
    "y1 = x1.reshape(1000,1)\n",
    "y2 = x2.reshape(1000,1)\n",
    "y3 = x3.reshape(1000,1)\n",
    "y4 = x4.reshape(1000,1)\n",
    "\n",
    "# combine col arrays into 1000x4 array\n",
    "X = np.hstack([y1, y2, y3, y4])\n",
    "X = np.round(X, 2)\n",
    "print(X.shape)"
   ]
  },
  {
   "cell_type": "code",
   "execution_count": 6,
   "id": "dd330dc7",
   "metadata": {
    "scrolled": true
   },
   "outputs": [
    {
     "name": "stdout",
     "output_type": "stream",
     "text": [
      "[[ 37.08  16.71 138.06   8.89]\n",
      " [ 41.32  19.91  99.61   9.86]\n",
      " [ 63.15  14.43  70.08  11.6 ]\n",
      " [ 50.03  12.71  95.05   8.47]\n",
      " [ 55.05  24.4   62.16   9.49]\n",
      " [ 59.24  25.68  64.57  12.84]]\n"
     ]
    }
   ],
   "source": [
    "# print first 6 rows\n",
    "print(X[:6,:])"
   ]
  },
  {
   "cell_type": "markdown",
   "id": "2b49101a",
   "metadata": {},
   "source": [
    "## Part 3: Standardization"
   ]
  },
  {
   "cell_type": "code",
   "execution_count": 7,
   "id": "ecedf240",
   "metadata": {},
   "outputs": [
    {
     "name": "stdout",
     "output_type": "stream",
     "text": [
      "Column means:              [50.21 19.86 99.84 10.06]\n",
      "Column standard deviation: [ 9.69  5.08 30.88  2.03]\n"
     ]
    }
   ],
   "source": [
    "# calc col means\n",
    "means = np.mean(X, axis=0)\n",
    "\n",
    "# calc col std dev\n",
    "stdv = np.std(X, axis=0)\n",
    "\n",
    "# output results\n",
    "print(f'Column means:              {np.round(means, 2)}')\n",
    "print(f'Column standard deviation: {np.round(stdv, 2)}')"
   ]
  },
  {
   "cell_type": "code",
   "execution_count": 8,
   "id": "eec54195",
   "metadata": {},
   "outputs": [
    {
     "name": "stdout",
     "output_type": "stream",
     "text": [
      "Column means:              [ 0. -0. -0. -0.]\n",
      "Column standard deviation: [1. 1. 1. 1.]\n"
     ]
    }
   ],
   "source": [
    "# subtract means and divide result by std dev\n",
    "W = (X - means)/stdv\n",
    "\n",
    "# calc col means\n",
    "Wmeans = np.mean(W, axis=0)\n",
    "\n",
    "# calc col std dev\n",
    "Wstdv = np.std(W, axis=0)\n",
    "\n",
    "# output results\n",
    "print(f'Column means:              {np.round(Wmeans, 2)}')\n",
    "print(f'Column standard deviation: {np.round(Wstdv, 2)}')"
   ]
  },
  {
   "cell_type": "markdown",
   "id": "292e2b71",
   "metadata": {},
   "source": [
    "## Part 4: Load Auto MPG Dataset"
   ]
  },
  {
   "cell_type": "code",
   "execution_count": 9,
   "id": "0343431f",
   "metadata": {
    "scrolled": false
   },
   "outputs": [
    {
     "data": {
      "text/html": [
       "<div>\n",
       "<style scoped>\n",
       "    .dataframe tbody tr th:only-of-type {\n",
       "        vertical-align: middle;\n",
       "    }\n",
       "\n",
       "    .dataframe tbody tr th {\n",
       "        vertical-align: top;\n",
       "    }\n",
       "\n",
       "    .dataframe thead th {\n",
       "        text-align: right;\n",
       "    }\n",
       "</style>\n",
       "<table border=\"1\" class=\"dataframe\">\n",
       "  <thead>\n",
       "    <tr style=\"text-align: right;\">\n",
       "      <th></th>\n",
       "      <th>mpg</th>\n",
       "      <th>cyl</th>\n",
       "      <th>wt</th>\n",
       "      <th>region</th>\n",
       "      <th>model</th>\n",
       "    </tr>\n",
       "  </thead>\n",
       "  <tbody>\n",
       "    <tr>\n",
       "      <th>0</th>\n",
       "      <td>27.2</td>\n",
       "      <td>4</td>\n",
       "      <td>3190</td>\n",
       "      <td>eur</td>\n",
       "      <td>peugeot 504</td>\n",
       "    </tr>\n",
       "    <tr>\n",
       "      <th>1</th>\n",
       "      <td>32.8</td>\n",
       "      <td>4</td>\n",
       "      <td>1985</td>\n",
       "      <td>asia</td>\n",
       "      <td>mazda glc deluxe</td>\n",
       "    </tr>\n",
       "    <tr>\n",
       "      <th>2</th>\n",
       "      <td>18.1</td>\n",
       "      <td>6</td>\n",
       "      <td>3410</td>\n",
       "      <td>usa</td>\n",
       "      <td>amc concord d/l</td>\n",
       "    </tr>\n",
       "    <tr>\n",
       "      <th>3</th>\n",
       "      <td>17.5</td>\n",
       "      <td>8</td>\n",
       "      <td>4080</td>\n",
       "      <td>usa</td>\n",
       "      <td>dodge magnum xe</td>\n",
       "    </tr>\n",
       "    <tr>\n",
       "      <th>4</th>\n",
       "      <td>25.4</td>\n",
       "      <td>5</td>\n",
       "      <td>3530</td>\n",
       "      <td>eur</td>\n",
       "      <td>mercedes benz 300d</td>\n",
       "    </tr>\n",
       "    <tr>\n",
       "      <th>5</th>\n",
       "      <td>31.0</td>\n",
       "      <td>4</td>\n",
       "      <td>1773</td>\n",
       "      <td>asia</td>\n",
       "      <td>toyota corolla 1200</td>\n",
       "    </tr>\n",
       "    <tr>\n",
       "      <th>6</th>\n",
       "      <td>27.4</td>\n",
       "      <td>4</td>\n",
       "      <td>2670</td>\n",
       "      <td>usa</td>\n",
       "      <td>amc spirit dl</td>\n",
       "    </tr>\n",
       "    <tr>\n",
       "      <th>7</th>\n",
       "      <td>39.1</td>\n",
       "      <td>4</td>\n",
       "      <td>1755</td>\n",
       "      <td>asia</td>\n",
       "      <td>toyota starlet</td>\n",
       "    </tr>\n",
       "    <tr>\n",
       "      <th>8</th>\n",
       "      <td>34.3</td>\n",
       "      <td>4</td>\n",
       "      <td>2188</td>\n",
       "      <td>eur</td>\n",
       "      <td>audi 4000</td>\n",
       "    </tr>\n",
       "    <tr>\n",
       "      <th>9</th>\n",
       "      <td>30.0</td>\n",
       "      <td>4</td>\n",
       "      <td>2155</td>\n",
       "      <td>usa</td>\n",
       "      <td>buick opel isuzu deluxe</td>\n",
       "    </tr>\n",
       "  </tbody>\n",
       "</table>\n",
       "</div>"
      ],
      "text/plain": [
       "    mpg  cyl    wt region                    model\n",
       "0  27.2    4  3190    eur              peugeot 504\n",
       "1  32.8    4  1985   asia         mazda glc deluxe\n",
       "2  18.1    6  3410    usa          amc concord d/l\n",
       "3  17.5    8  4080    usa          dodge magnum xe\n",
       "4  25.4    5  3530    eur       mercedes benz 300d\n",
       "5  31.0    4  1773   asia      toyota corolla 1200\n",
       "6  27.4    4  2670    usa            amc spirit dl\n",
       "7  39.1    4  1755   asia           toyota starlet\n",
       "8  34.3    4  2188    eur                audi 4000\n",
       "9  30.0    4  2155    usa  buick opel isuzu deluxe"
      ]
     },
     "execution_count": 9,
     "metadata": {},
     "output_type": "execute_result"
    }
   ],
   "source": [
    "# load txt file into a df\n",
    "auto = pd.read_table('auto_mpg.txt', sep='\\t')\n",
    "\n",
    "# output first 10 rows\n",
    "auto.head(10)"
   ]
  },
  {
   "cell_type": "code",
   "execution_count": 10,
   "id": "c3a98a4e",
   "metadata": {
    "scrolled": true
   },
   "outputs": [
    {
     "data": {
      "text/plain": [
       "(398, 5)"
      ]
     },
     "execution_count": 10,
     "metadata": {},
     "output_type": "execute_result"
    }
   ],
   "source": [
    "# get shape of df\n",
    "auto.shape"
   ]
  },
  {
   "cell_type": "code",
   "execution_count": 11,
   "id": "231e1e61",
   "metadata": {
    "scrolled": true
   },
   "outputs": [
    {
     "name": "stderr",
     "output_type": "stream",
     "text": [
      "C:\\Users\\laure\\AppData\\Local\\Temp/ipykernel_22744/1998851515.py:2: FutureWarning: Dropping of nuisance columns in DataFrame reductions (with 'numeric_only=None') is deprecated; in a future version this will raise TypeError.  Select only valid columns before calling the reduction.\n",
      "  auto.mean()\n"
     ]
    },
    {
     "data": {
      "text/plain": [
       "mpg      23.514573\n",
       "cyl       5.454774\n",
       "wt     2970.424623\n",
       "dtype: float64"
      ]
     },
     "execution_count": 11,
     "metadata": {},
     "output_type": "execute_result"
    }
   ],
   "source": [
    "# get means of numeric cols\n",
    "auto.mean()"
   ]
  },
  {
   "cell_type": "markdown",
   "id": "7061a30d",
   "metadata": {},
   "source": [
    "## Part 5: Regional Counts and Means"
   ]
  },
  {
   "cell_type": "code",
   "execution_count": 12,
   "id": "68a2d7e0",
   "metadata": {},
   "outputs": [
    {
     "name": "stdout",
     "output_type": "stream",
     "text": [
      "['asia' 'eur' 'usa']\n"
     ]
    }
   ],
   "source": [
    "# get unique values of region col\n",
    "regions = np.unique(auto.loc[:,'region'])\n",
    "print(regions)"
   ]
  },
  {
   "cell_type": "code",
   "execution_count": 13,
   "id": "f88311d8",
   "metadata": {},
   "outputs": [
    {
     "name": "stdout",
     "output_type": "stream",
     "text": [
      "Number of cars manufactured in Asia:   79\n",
      "Number of cars manufactured in Europe: 70\n",
      "Number of cars manufactured in USA:    249\n"
     ]
    }
   ],
   "source": [
    "# isolate by region\n",
    "asia_auto = auto.loc[(auto.loc[:, 'region'] == 'asia'),:]\n",
    "eur_auto = auto.loc[(auto.loc[:, 'region'] == 'eur'),:]\n",
    "usa_auto = auto.loc[(auto.loc[:, 'region'] == 'usa'),:]\n",
    "\n",
    "print(f'Number of cars manufactured in Asia:   {asia_auto.shape[0]}')\n",
    "print(f'Number of cars manufactured in Europe: {eur_auto.shape[0]}')\n",
    "print(f'Number of cars manufactured in USA:    {usa_auto.shape[0]}')"
   ]
  },
  {
   "cell_type": "code",
   "execution_count": 14,
   "id": "a23cc003",
   "metadata": {},
   "outputs": [
    {
     "data": {
      "text/html": [
       "<div>\n",
       "<style scoped>\n",
       "    .dataframe tbody tr th:only-of-type {\n",
       "        vertical-align: middle;\n",
       "    }\n",
       "\n",
       "    .dataframe tbody tr th {\n",
       "        vertical-align: top;\n",
       "    }\n",
       "\n",
       "    .dataframe thead th {\n",
       "        text-align: right;\n",
       "    }\n",
       "</style>\n",
       "<table border=\"1\" class=\"dataframe\">\n",
       "  <thead>\n",
       "    <tr style=\"text-align: right;\">\n",
       "      <th></th>\n",
       "      <th>mpg</th>\n",
       "      <th>cyl</th>\n",
       "      <th>wt</th>\n",
       "    </tr>\n",
       "  </thead>\n",
       "  <tbody>\n",
       "    <tr>\n",
       "      <th>asia</th>\n",
       "      <td>30.450633</td>\n",
       "      <td>4.101266</td>\n",
       "      <td>2221.227848</td>\n",
       "    </tr>\n",
       "    <tr>\n",
       "      <th>eur</th>\n",
       "      <td>27.891429</td>\n",
       "      <td>4.157143</td>\n",
       "      <td>2423.300000</td>\n",
       "    </tr>\n",
       "    <tr>\n",
       "      <th>usa</th>\n",
       "      <td>20.083534</td>\n",
       "      <td>6.248996</td>\n",
       "      <td>3361.931727</td>\n",
       "    </tr>\n",
       "  </tbody>\n",
       "</table>\n",
       "</div>"
      ],
      "text/plain": [
       "            mpg       cyl           wt\n",
       "asia  30.450633  4.101266  2221.227848\n",
       "eur   27.891429  4.157143  2423.300000\n",
       "usa   20.083534  6.248996  3361.931727"
      ]
     },
     "metadata": {},
     "output_type": "display_data"
    }
   ],
   "source": [
    "# get means of regions\n",
    "asia_means = asia_auto.loc[:, ['mpg', 'cyl', 'wt']].mean()\n",
    "eur_means = eur_auto.loc[:, ['mpg', 'cyl', 'wt']].mean()\n",
    "usa_means = usa_auto.loc[:, ['mpg', 'cyl', 'wt']].mean()\n",
    "\n",
    "# combine into one df\n",
    "mean_df = pd.DataFrame(data = [asia_means, eur_means, usa_means],\n",
    "                      index = regions)\n",
    "\n",
    "# display new df\n",
    "display(mean_df)"
   ]
  },
  {
   "cell_type": "markdown",
   "id": "cbc64dc4",
   "metadata": {},
   "source": [
    "## Part 6: Average Weight and MPG by Region"
   ]
  },
  {
   "cell_type": "code",
   "execution_count": 15,
   "id": "42fdd84a",
   "metadata": {
    "scrolled": true
   },
   "outputs": [
    {
     "data": {
      "image/png": "[encoded data removed]",
      "text/plain": [
       "<Figure size 576x288 with 2 Axes>"
      ]
     },
     "metadata": {
      "needs_background": "light"
     },
     "output_type": "display_data"
    }
   ],
   "source": [
    "colors1 = ['red', 'gold', 'royalblue']\n",
    "\n",
    "plt.figure(figsize=[8,4])\n",
    "\n",
    "# plot MPG bar chart\n",
    "plt.subplot(1, 2, 1)\n",
    "plt.bar(x=regions, \n",
    "        height=mean_df['mpg'],\n",
    "        color=colors1, \n",
    "        edgecolor='black')\n",
    "# labels\n",
    "plt.title('Average MPG by Region')\n",
    "plt.xlabel('Region')\n",
    "plt.ylabel('Average MPG')\n",
    "\n",
    "# plot weight bar chart\n",
    "plt.subplot(1, 2, 2)\n",
    "plt.bar(x=regions, \n",
    "        height=mean_df['wt'], \n",
    "        color=colors1, \n",
    "        edgecolor='black')\n",
    "# labels\n",
    "plt.title('Average Weight by Region')\n",
    "plt.xlabel('Region')\n",
    "plt.ylabel('Average Weight in Pounds')\n",
    "\n",
    "plt.tight_layout()\n",
    "plt.show()"
   ]
  },
  {
   "cell_type": "markdown",
   "id": "1149d81b",
   "metadata": {},
   "source": [
    "## Part 7: Relationship between Weight and Miles Per Gallon"
   ]
  },
  {
   "cell_type": "code",
   "execution_count": 16,
   "id": "14edb093",
   "metadata": {
    "scrolled": true
   },
   "outputs": [
    {
     "data": {
      "image/png": "[encoded data removed]",
      "text/plain": [
       "<Figure size 864x288 with 3 Axes>"
      ]
     },
     "metadata": {
      "needs_background": "light"
     },
     "output_type": "display_data"
    }
   ],
   "source": [
    "plt.figure(figsize=[12,4])\n",
    "\n",
    "i = 0\n",
    "sel = 0\n",
    "\n",
    "for r in regions:    \n",
    "    # select wt and mpg for region\n",
    "    sel = auto.loc[(auto.loc[:, 'region'] == r),:]\n",
    "\n",
    "    # make scatter plot\n",
    "    plt.subplot(1,3,i+1)\n",
    "    plt.scatter(x=sel.loc[:, 'wt'], \n",
    "                y=sel.loc[:, 'mpg'], \n",
    "                alpha=0.7, \n",
    "                color=colors1[i],\n",
    "                edgecolor='black')\n",
    "    \n",
    "    # add axes limits\n",
    "    plt.xlim([1200, 5000])\n",
    "    plt.ylim([0, 50])\n",
    "    \n",
    "    # add labels\n",
    "    plt.xlabel('Weight in Pounds')\n",
    "    plt.ylabel('Miles Per Gallon')\n",
    "    plt.title(f'Weight vs MPG ({r.capitalize()})')\n",
    "    i += 1\n",
    "\n",
    "plt.tight_layout()\n",
    "plt.show()"
   ]
  },
  {
   "cell_type": "markdown",
   "id": "3293eefb",
   "metadata": {},
   "source": [
    "## Part 8: Cylinder Distribution by Region"
   ]
  },
  {
   "cell_type": "code",
   "execution_count": 17,
   "id": "be45697f",
   "metadata": {},
   "outputs": [
    {
     "name": "stdout",
     "output_type": "stream",
     "text": [
      "[3 4 5 6 8]\n"
     ]
    }
   ],
   "source": [
    "# get unique cyl values\n",
    "cyl_values = np.unique(auto.loc[:,'cyl'])\n",
    "print(cyl_values)"
   ]
  },
  {
   "cell_type": "code",
   "execution_count": 18,
   "id": "4dcd9bc7",
   "metadata": {},
   "outputs": [
    {
     "data": {
      "text/html": [
       "<div>\n",
       "<style scoped>\n",
       "    .dataframe tbody tr th:only-of-type {\n",
       "        vertical-align: middle;\n",
       "    }\n",
       "\n",
       "    .dataframe tbody tr th {\n",
       "        vertical-align: top;\n",
       "    }\n",
       "\n",
       "    .dataframe thead th {\n",
       "        text-align: right;\n",
       "    }\n",
       "</style>\n",
       "<table border=\"1\" class=\"dataframe\">\n",
       "  <thead>\n",
       "    <tr style=\"text-align: right;\">\n",
       "      <th>region</th>\n",
       "      <th>asia</th>\n",
       "      <th>eur</th>\n",
       "      <th>usa</th>\n",
       "    </tr>\n",
       "    <tr>\n",
       "      <th>cyl</th>\n",
       "      <th></th>\n",
       "      <th></th>\n",
       "      <th></th>\n",
       "    </tr>\n",
       "  </thead>\n",
       "  <tbody>\n",
       "    <tr>\n",
       "      <th>3</th>\n",
       "      <td>4</td>\n",
       "      <td>0</td>\n",
       "      <td>0</td>\n",
       "    </tr>\n",
       "    <tr>\n",
       "      <th>4</th>\n",
       "      <td>69</td>\n",
       "      <td>63</td>\n",
       "      <td>72</td>\n",
       "    </tr>\n",
       "    <tr>\n",
       "      <th>5</th>\n",
       "      <td>0</td>\n",
       "      <td>3</td>\n",
       "      <td>0</td>\n",
       "    </tr>\n",
       "    <tr>\n",
       "      <th>6</th>\n",
       "      <td>6</td>\n",
       "      <td>4</td>\n",
       "      <td>74</td>\n",
       "    </tr>\n",
       "    <tr>\n",
       "      <th>8</th>\n",
       "      <td>0</td>\n",
       "      <td>0</td>\n",
       "      <td>103</td>\n",
       "    </tr>\n",
       "  </tbody>\n",
       "</table>\n",
       "</div>"
      ],
      "text/plain": [
       "region  asia  eur  usa\n",
       "cyl                   \n",
       "3          4    0    0\n",
       "4         69   63   72\n",
       "5          0    3    0\n",
       "6          6    4   74\n",
       "8          0    0  103"
      ]
     },
     "metadata": {},
     "output_type": "display_data"
    }
   ],
   "source": [
    "# get cyl by region df\n",
    "cyl_counts_by_region = pd.crosstab(auto.loc[:,'cyl'], auto.loc[:,'region'])\n",
    "display(cyl_counts_by_region)"
   ]
  },
  {
   "cell_type": "code",
   "execution_count": 19,
   "id": "9895f672",
   "metadata": {},
   "outputs": [
    {
     "data": {
      "image/png": "[encoded data removed]",
      "text/plain": [
       "<Figure size 432x288 with 1 Axes>"
      ]
     },
     "metadata": {
      "needs_background": "light"
     },
     "output_type": "display_data"
    }
   ],
   "source": [
    "# get proportions\n",
    "cyl_props_by_region = cyl_counts_by_region/(cyl_counts_by_region.sum())\n",
    "\n",
    "# bottom of each bar for stacked bar chart\n",
    "bar_bottoms = np.cumsum(cyl_props_by_region) - cyl_props_by_region\n",
    "\n",
    "colors2 = ['crimson', 'darkorange', 'limegreen', 'blue', 'darkviolet']\n",
    "\n",
    "plt.figure(figsize=[6,4])\n",
    "\n",
    "# plot each region's cyl\n",
    "for i in range(cyl_props_by_region.shape[0]):\n",
    "    plt.bar(regions,\n",
    "            cyl_props_by_region.iloc[i,:], \n",
    "            label=cyl_values[i], \n",
    "            color=colors2[i],\n",
    "            bottom=bar_bottoms.iloc[i,:],\n",
    "            edgecolor='black')\n",
    "    \n",
    "# legend and labels\n",
    "plt.legend(bbox_to_anchor=(1.05,0.75))\n",
    "plt.xlabel('Region')\n",
    "plt.ylabel('Proportion')\n",
    "plt.title('Distribution of Cylinder Numbers by Region')\n",
    "\n",
    "plt.show()"
   ]
  }
 ],
 "metadata": {
  "kernelspec": {
   "display_name": "Python 3 (ipykernel)",
   "language": "python",
   "name": "python3"
  },
  "language_info": {
   "codemirror_mode": {
    "name": "ipython",
    "version": 3
   },
   "file_extension": ".py",
   "mimetype": "text/x-python",
   "name": "python",
   "nbconvert_exporter": "python",
   "pygments_lexer": "ipython3",
   "version": "3.7.1"
  }
 },
 "nbformat": 4,
 "nbformat_minor": 5
}
